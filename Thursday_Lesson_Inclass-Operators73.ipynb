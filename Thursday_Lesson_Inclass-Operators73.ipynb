{
 "cells": [
  {
   "cell_type": "markdown",
   "metadata": {},
   "source": [
    "# Object-Oriented-Programming (OOP)"
   ]
  },
  {
   "cell_type": "markdown",
   "metadata": {},
   "source": [
    "## Tasks Today:\n",
    "\n",
    "   \n",
    "\n",
    "1) <b>Creating a Class (Initializing/Declaring)</b> <br>\n",
    "2) <b>Using a Class (Instantiating)</b> <br>\n",
    " &nbsp;&nbsp;&nbsp;&nbsp; a) Creating One Instance <br>\n",
    " &nbsp;&nbsp;&nbsp;&nbsp; b) Creating Multiple Instances <br>\n",
    " &nbsp;&nbsp;&nbsp;&nbsp; c) In-Class Exercise #1 - Create a Class 'Car' and instantiate three different makes of cars <br>\n",
    "3) <b>The \\__init\\__() Method</b> <br>\n",
    " &nbsp;&nbsp;&nbsp;&nbsp; a) The 'self' Attribute <br>\n",
    "4) <b>Class Attributes</b> <br>\n",
    " &nbsp;&nbsp;&nbsp;&nbsp; a) Initializing Attributes <br>\n",
    " &nbsp;&nbsp;&nbsp;&nbsp; b) Setting an Attribute Outside of the \\__init\\__() Method <br>\n",
    " &nbsp;&nbsp;&nbsp;&nbsp; c) Setting Defaults for Attributes <br>\n",
    " &nbsp;&nbsp;&nbsp;&nbsp; d) Accessing Class Attributes <br>\n",
    " &nbsp;&nbsp;&nbsp;&nbsp; e) Changing Class Attributes <br>\n",
    " &nbsp;&nbsp;&nbsp;&nbsp; f) In-Class Exercise #2 - Add a color and wheels attribute to your 'Car' class <br>\n",
    "5) <b>Class Methods</b> <br>\n",
    " &nbsp;&nbsp;&nbsp;&nbsp; a) Creating <br>\n",
    " &nbsp;&nbsp;&nbsp;&nbsp; b) Calling <br>\n",
    " &nbsp;&nbsp;&nbsp;&nbsp; c) Modifying an Attribute's Value Through a Method <br>\n",
    " &nbsp;&nbsp;&nbsp;&nbsp; d) Incrementing an Attribute's Value Through a Method <br>\n",
    " &nbsp;&nbsp;&nbsp;&nbsp; e) In-Class Exercise #3 - Add a method that prints the cars color and wheel number, then call them <br>\n",
    "6) <b>Inheritance</b> <br>\n",
    " &nbsp;&nbsp;&nbsp;&nbsp; a) Syntax for Inheriting from a Parent Class <br>\n",
    " &nbsp;&nbsp;&nbsp;&nbsp; b) The \\__init\\__() Method for a Child Class (super()) <br>\n",
    " &nbsp;&nbsp;&nbsp;&nbsp; c) Defining Attributes and Methods for the Child Class <br>\n",
    " &nbsp;&nbsp;&nbsp;&nbsp; d) Method Overriding <br>\n",
    " &nbsp;&nbsp;&nbsp;&nbsp; e) In-Class Exercise #4 - Create a class 'Ford' that inherits from 'Car' class and initialize it as a Blue Ford Explorer with 4 wheels using the super() method <br>\n",
    "7) <b>Classes as Attributes</b> <br>\n",
    "8) <b>Exercises</b> <br>\n",
    " &nbsp;&nbsp;&nbsp;&nbsp; a) Exercise #1 - Turn the shopping cart program from yesterday into an object-oriented program <br>"
   ]
  },
  {
   "cell_type": "markdown",
   "metadata": {},
   "source": [
    "## Reference for HW "
   ]
  },
  {
   "cell_type": "code",
   "execution_count": null,
   "metadata": {},
   "outputs": [],
   "source": [
    "from IPython.display import clear_output\n",
    "\n",
    "def shoppingCart():\n",
    "    cart = []\n",
    "    \n",
    "    # looping indefinitely\n",
    "    while True:\n",
    "        ask = input('Do you want to : Show/Add/Delete or Quit?')\n",
    "        \n",
    "        # quit\n",
    "        if ask.lower() == 'quit':\n",
    "            print()\n",
    "            for item in cart:\n",
    "                print(item)\n",
    "            break\n",
    "            \n",
    "        # adding\n",
    "        elif ask.lower() == 'add':\n",
    "            item = input('What would you like to add?')\n",
    "            cart.append(item)\n",
    "            print(cart)\n",
    "        \n",
    "        # delete\n",
    "        elif ask.lower() == 'delete':\n",
    "            print(f'here is your cart {cart}')\n",
    "            item = input('What would you like to delete?')\n",
    "            cart.remove(item)\n",
    "            print(cart)\n",
    "            \n",
    "        # show\n",
    "        elif ask.lower() == 'show':\n",
    "            print('Here are the items in your cart:')\n",
    "            for item in cart:\n",
    "                print(item)\n",
    "        \n",
    "        else:\n",
    "            print('Please enter a valid command')\n",
    "\n",
    "shoppingCart()"
   ]
  },
  {
   "cell_type": "markdown",
   "metadata": {},
   "source": [
    "## Creating a Class (Initializing/Declaring)\n",
    "<p>When creating a class, function, or even a variable you are initializing that object. Initializing and Declaring occur at the same time in Python, whereas in lower level languages you have to declare an object before initializing it. This is the first step in the process of using a class.</p>"
   ]
  },
  {
   "cell_type": "code",
   "execution_count": 3,
   "metadata": {},
   "outputs": [],
   "source": [
    "# parenthesis are not needed after Car when creating a class\n",
    "class Car:\n",
    "    wheels = 4\n",
    "    color = 'blue'"
   ]
  },
  {
   "cell_type": "markdown",
   "metadata": {},
   "source": [
    "## Using a Class (Instantiating)\n",
    "<p>The process of creating a class is called <i>Instantiating</i>. Each time you create a variable of that type of class, it is referred to as an <i>Instance</i> of that class. This is the second step in the process of using a class.</p>"
   ]
  },
  {
   "cell_type": "markdown",
   "metadata": {},
   "source": [
    "##### Creating One Instance"
   ]
  },
  {
   "cell_type": "code",
   "execution_count": 7,
   "metadata": {},
   "outputs": [
    {
     "name": "stdout",
     "output_type": "stream",
     "text": [
      "4\n",
      "blue\n"
     ]
    }
   ],
   "source": [
    "ford = Car()\n",
    "\n",
    "print(ford.wheels)\n",
    "print(ford.color)"
   ]
  },
  {
   "cell_type": "markdown",
   "metadata": {},
   "source": [
    "##### Creating Multiple Instances"
   ]
  },
  {
   "cell_type": "code",
   "execution_count": 8,
   "metadata": {},
   "outputs": [
    {
     "name": "stdout",
     "output_type": "stream",
     "text": [
      "blue\n"
     ]
    }
   ],
   "source": [
    "chevy = Car()\n",
    "ferrari = Car()\n",
    "bmw = Car()\n",
    "\n",
    "# all are a Car object.. all different versions of Car\n",
    "# print(bmw)\n",
    "# print(ferrari)\n",
    "# print(chevy)\n",
    "\n",
    "print(bmw.color)\n"
   ]
  },
  {
   "cell_type": "markdown",
   "metadata": {},
   "source": [
    "##### In-Class Exercise #1 - Create a Class 'Car' and Instantiate three different makes of cars"
   ]
  },
  {
   "cell_type": "code",
   "execution_count": 32,
   "metadata": {},
   "outputs": [
    {
     "name": "stdout",
     "output_type": "stream",
     "text": [
      "yellow\n",
      "4\n",
      "2\n",
      "200hp\n",
      "True\n"
     ]
    }
   ],
   "source": [
    "# add attributes for doors (number), horsepower (integer), sunroof (boolean)\n",
    "class Car:\n",
    "    wheels = 4\n",
    "    color = 'yellow'\n",
    "    doors = 2\n",
    "    horsepower = '200hp'\n",
    "    sunroof = True\n",
    "    \n",
    "honda = Car()\n",
    "chevy = Car()\n",
    "toyota = Car()\n",
    "\n",
    "print(honda.color)\n",
    "print(toyota.wheels)\n",
    "print(chevy.doors)\n",
    "print(chevy.horsepower)\n",
    "print(chevy.sunroof)"
   ]
  },
  {
   "cell_type": "markdown",
   "metadata": {},
   "source": [
    "## The \\__init\\__() Method <br>\n",
    "<p>This method is used in almost every created class, and called only once upon the creation of the class instance. This method will initialize all variables needed for the object.</p>"
   ]
  },
  {
   "cell_type": "code",
   "execution_count": 50,
   "metadata": {},
   "outputs": [
    {
     "name": "stdout",
     "output_type": "stream",
     "text": [
      "black\n",
      "2\n",
      "V8\n",
      "V8\n"
     ]
    }
   ],
   "source": [
    "#double underscore\n",
    "class Car:\n",
    "    engine = \"V8\" #constant attribute\n",
    "    def __init__(self, wheels, color):\n",
    "        self.wheels = wheels\n",
    "        self.color = color\n",
    "        \n",
    "ford = Car(4, 'black')\n",
    "chevy = Car(2, 'red')\n",
    "\n",
    "print(ford.color)\n",
    "print(chevy.wheels)\n",
    "print(chevy.engine)\n",
    "print(ford.engine)"
   ]
  },
  {
   "cell_type": "markdown",
   "metadata": {},
   "source": [
    "##### The 'self' Attribute <br>\n",
    "<p>This attribute is required to keep track of specific instance's attributes. Without the self attribute, the program would not know how to reference or keep track of an instance's attributes.</p>"
   ]
  },
  {
   "cell_type": "code",
   "execution_count": null,
   "metadata": {},
   "outputs": [],
   "source": [
    "# see above"
   ]
  },
  {
   "cell_type": "markdown",
   "metadata": {},
   "source": [
    "## Class Attributes <br>\n",
    "<p>While variables are inside of a class, they are referred to as attributes and not variables. When someone says 'attribute' you know they're speaking about a class. Attributes can be initialized through the init method, or outside of it.</p>"
   ]
  },
  {
   "cell_type": "markdown",
   "metadata": {},
   "source": [
    "##### Initializing Attributes"
   ]
  },
  {
   "cell_type": "code",
   "execution_count": 58,
   "metadata": {},
   "outputs": [
    {
     "name": "stdout",
     "output_type": "stream",
     "text": [
      "1\n",
      "0\n",
      "Tonka\n",
      "False\n"
     ]
    },
    {
     "data": {
      "text/plain": [
       "'car'"
      ]
     },
     "execution_count": 58,
     "metadata": {},
     "output_type": "execute_result"
    }
   ],
   "source": [
    "# see above\n",
    "class Toy:\n",
    "    kind = \"car\" #constant-> should change infrequently or never\n",
    "    \n",
    "    def __init__(self, rooftop, brand, horn):# init method typically has required attributes.. always changing\n",
    "        self.rooftop = rooftop\n",
    "        self.brand = brand\n",
    "        self.horn = horn\n",
    "        \n",
    "truck = Toy(True, 'Tonka', 1)\n",
    "car = Toy(False, 'Hot Wheels', 0)\n",
    "\n",
    "print(truck.horn)\n",
    "print(car.horn)\n",
    "print(truck.brand)\n",
    "print(car.rooftop)\n",
    "truck.kind"
   ]
  },
  {
   "cell_type": "markdown",
   "metadata": {},
   "source": [
    "##### Accessing Class Attributes"
   ]
  },
  {
   "cell_type": "code",
   "execution_count": 47,
   "metadata": {
    "scrolled": true
   },
   "outputs": [
    {
     "data": {
      "text/plain": [
       "4"
      ]
     },
     "execution_count": 47,
     "metadata": {},
     "output_type": "execute_result"
    }
   ],
   "source": [
    "# See Above -- className.attributeName\n",
    "ford.wheels"
   ]
  },
  {
   "cell_type": "markdown",
   "metadata": {},
   "source": [
    "##### Setting Defaults for Attributes"
   ]
  },
  {
   "cell_type": "code",
   "execution_count": 67,
   "metadata": {},
   "outputs": [
    {
     "name": "stdout",
     "output_type": "stream",
     "text": [
      "8\n",
      "Blue\n",
      "2\n",
      "Blue\n"
     ]
    }
   ],
   "source": [
    "# similar to constant\n",
    "class Car:\n",
    "    def __init__(self, wheels):\n",
    "        self.wheels = wheels\n",
    "        self.color = 'Blue' # default \n",
    "        \n",
    "honda = Car(8)\n",
    "print(honda.wheels)\n",
    "print(honda.color)\n",
    "\n",
    "jeep = Car(2)\n",
    "print(jeep.wheels)\n",
    "print(jeep.color)"
   ]
  },
  {
   "cell_type": "markdown",
   "metadata": {},
   "source": [
    "##### Changing Class Attributes <br>\n",
    "<p>Keep in mind there are global class attributes and then there are attributes only available to each class instance which won't effect other classes.</p>"
   ]
  },
  {
   "cell_type": "code",
   "execution_count": 68,
   "metadata": {},
   "outputs": [
    {
     "name": "stdout",
     "output_type": "stream",
     "text": [
      "Here is the color before reassigning... Blue\n",
      "Here is the color after reassigning... Yellow\n"
     ]
    }
   ],
   "source": [
    "# changing the jeep color from above\n",
    "print(f'Here is the color before reassigning... {jeep.color}')\n",
    "\n",
    "jeep.color = 'Yellow'\n",
    "\n",
    "print(f'Here is the color after reassigning... {jeep.color}')\n"
   ]
  },
  {
   "cell_type": "code",
   "execution_count": null,
   "metadata": {},
   "outputs": [],
   "source": []
  },
  {
   "cell_type": "markdown",
   "metadata": {},
   "source": [
    "##### In-Class Exercise #2 - Add a doors and seats attribute to your 'Car' class then print out two different instances with different doors and seats"
   ]
  },
  {
   "cell_type": "code",
   "execution_count": 86,
   "metadata": {},
   "outputs": [
    {
     "name": "stdout",
     "output_type": "stream",
     "text": [
      "This Ford has 2 seats, 4 wheels, 4 doors, and is blue. \n",
      "This Chevrolet has 8 seats, 4 wheels, 6 doors, and is white. \n",
      "This Semi has 2 seats, 18 wheels, 2 doors, and is grey. \n"
     ]
    }
   ],
   "source": [
    "class Car():\n",
    "    def __init__(self, seats, doors, wheels, color):\n",
    "        self.seats = seats\n",
    "        self.doors = doors\n",
    "        self.wheels = wheels\n",
    "        self.color = color\n",
    "        \n",
    "ford = Car(2, 4, 4,  'blue')\n",
    "chevy = Car(8, 6, 4, 'white')\n",
    "semitruck = Car(2, 2, 18, 'grey')\n",
    "\n",
    "print(f\"This Ford has {ford.seats} seats, {ford.wheels} wheels, {ford.doors} doors, and is {ford.color}. \")\n",
    "print(f\"This Chevrolet has {chevy.seats} seats, {chevy.wheels} wheels, {chevy.doors} doors, and is {chevy.color}. \")\n",
    "print(f\"This Semi has {semitruck.seats} seats, {semitruck.wheels} wheels, {semitruck.doors} doors, and is {semitruck.color}. \")\n"
   ]
  },
  {
   "cell_type": "markdown",
   "metadata": {},
   "source": [
    "## Class Methods <br>\n",
    "<p>While inside of a class, functions are referred to as 'methods'. If you hear someone mention methods, they're speaking about classes. Methods are essentially functions, but only callable on the instances of a class.</p>"
   ]
  },
  {
   "cell_type": "markdown",
   "metadata": {},
   "source": [
    "##### Creating"
   ]
  },
  {
   "cell_type": "code",
   "execution_count": 155,
   "metadata": {},
   "outputs": [],
   "source": [
    "class ShoppingBag:\n",
    "    \"\"\"\n",
    "    The ShoppingBag class will have handles, capacity, and \n",
    "    items to place inside.\n",
    "    Attributes in this class:\n",
    "    - handles: expected to be an integer\n",
    "    - capacity: excepted to be an integer\n",
    "    - items: expected to be a list\n",
    "    \"\"\"\n",
    "    def __init__(self, handles, capacity, items):\n",
    "        self.handles = handles\n",
    "        self.capacity = capacity\n",
    "        self.items = items\n",
    "        \n",
    "    # method of ShoppingBag class to show the items inside of items\n",
    "    def showBag(self):\n",
    "        print('Here are the contents of your bag')\n",
    "        for item in self.items:\n",
    "            print(item)\n",
    "    \n",
    "    # method to show capacity\n",
    "    def showCap(self):\n",
    "        print(f'The capacity of your bag is: {self.capacity}')\n",
    "    \n",
    "    # add to items of ShoppingBag\n",
    "    def addToBag(self):\n",
    "        product = (input)('What would you like to add?')\n",
    "        self.items.append(product)\n",
    "    \n",
    "    # change capacity to new cap. given an integer\n",
    "    def changeCap(self, capacity):\n",
    "        self.capacity = capacity\n",
    "        \n",
    "    # increment capacity of the bag by 10 (10 being default, can increase as much as you want)\n",
    "    def increaseCap(self, cap_change = 10):\n",
    "        self.capacity += cap_change\n",
    "        print(f'Your new capacity: {self.capacity}')\n",
    "\n",
    "    \n",
    "    \n",
    "bag = ShoppingBag(2,10,['bananas', 'pears', 'milk', 'bread'])\n"
   ]
  },
  {
   "cell_type": "markdown",
   "metadata": {},
   "source": [
    "##### Calling"
   ]
  },
  {
   "cell_type": "code",
   "execution_count": 156,
   "metadata": {},
   "outputs": [
    {
     "name": "stdout",
     "output_type": "stream",
     "text": [
      "What would you like to do? add/show/change cap/quitquit\n",
      "Here are the contents of your bag\n",
      "Thanks for shopping!\n"
     ]
    }
   ],
   "source": [
    "# define a function to simulate grocery trip using ShoppingBag Class\n",
    "\n",
    "def run():\n",
    "    kroger = ShoppingBag(2,20,[])\n",
    "    while True:\n",
    "        response = input('What would you like to do? add/show/change cap/quit')\n",
    "        if response.lower() == 'quit':\n",
    "            kroger.showBag()\n",
    "            print('Thanks for shopping!')\n",
    "            break\n",
    "        \n",
    "        elif response.lower() == 'add':\n",
    "            kroger.addToBag()\n",
    "            \n",
    "        elif response.lower() == 'show':\n",
    "            kroger.showBag()\n",
    "            \n",
    "        elif response.lower() == 'change cap':\n",
    "            kroger.showCap()\n",
    "            size = input('How much total capacity do you require?')\n",
    "            kroger.changeCap(size)\n",
    "            kroger.showCap()\n",
    "        else:\n",
    "            print('Try again')\n",
    "        \n",
    "        \n",
    "run()"
   ]
  },
  {
   "cell_type": "markdown",
   "metadata": {},
   "source": [
    "##### Modifying an Attribute's Value Through a Method"
   ]
  },
  {
   "cell_type": "code",
   "execution_count": null,
   "metadata": {},
   "outputs": [],
   "source": [
    "# bag.showCap()\n",
    "# bag.increaseCap(100)\n",
    "\n",
    "\n",
    "# bag.addToBag()\n",
    "# bag.showBag()\n",
    "\n",
    "# canvas = ShoppingBag(4,2,['cake', 'ice cream'])\n",
    "# canvas.showCap()\n",
    "\n",
    "# bag.showCap()\n",
    "# bag.changeCap(50)\n",
    "# bag.showCap()\n"
   ]
  },
  {
   "cell_type": "markdown",
   "metadata": {},
   "source": [
    "##### Incrementing an Attribute's Value Through a Method"
   ]
  },
  {
   "cell_type": "code",
   "execution_count": null,
   "metadata": {},
   "outputs": [],
   "source": []
  },
  {
   "cell_type": "markdown",
   "metadata": {},
   "source": [
    "##### example to add/remove items"
   ]
  },
  {
   "cell_type": "code",
   "execution_count": 158,
   "metadata": {},
   "outputs": [
    {
     "name": "stdout",
     "output_type": "stream",
     "text": [
      "{'banana': 4}\n",
      "What do you want to add?banana\n",
      "{'banana': 5}\n"
     ]
    }
   ],
   "source": [
    "items = {'banana': 4}\n",
    "print(items)\n",
    "ui = input('What do you want to add?')\n",
    "\n",
    "if ui in items:\n",
    "    items[ui] += 1\n",
    "else:\n",
    "    items[ui] = 1\n",
    "print(items)   "
   ]
  },
  {
   "cell_type": "markdown",
   "metadata": {},
   "source": [
    "##### In-Class Exercise #3 - Add a method that takes in three parameters of year, doors and seats and prints out a formatted print statement with make, model, year, seats, and doors"
   ]
  },
  {
   "cell_type": "code",
   "execution_count": 174,
   "metadata": {},
   "outputs": [
    {
     "name": "stdout",
     "output_type": "stream",
     "text": [
      "My car is a white 2006 Chevrolet Blazer with 2 seats and 2 doors.\n",
      "My car is a white 2006 Chevrolet Blazer with 2 seats and 2 doors.\n"
     ]
    }
   ],
   "source": [
    "# Create class with 2 parameters inside of the __init__ which are make and model\n",
    "# Inside of the Car class create a method that has 4 parameter in total (self,year,door,seats)\n",
    "# Output: i.e. This car is from 2019 and is a Ford Explorer and has 4 doors and 5 seats\n",
    "\n",
    "class Car():\n",
    "    def __init__(self, make, model):\n",
    "        self.make = make\n",
    "        self.model = model\n",
    "       \n",
    "    def moreInfo(self, color, year, seats, doors):\n",
    "        self.color = color\n",
    "        self.year = year\n",
    "        self.seats = seats\n",
    "        self.doors = doors\n",
    "        print(f\"My car is a {self.color} {self.year} {self.make} {self.model} with {self.seats} seats and {self.doors} doors.\")\n",
    "        \n",
    "        # lines 11-15 same as line 18\n",
    "        print(f'My car is a {color} {year} {self.make} {self.model} with {seats} seats and {doors} doors.')\n",
    "\n",
    "        \n",
    "myCar = Car('Chevrolet','Blazer')\n",
    "myCar.moreInfo('white', 2006, 2, 2)\n"
   ]
  },
  {
   "cell_type": "markdown",
   "metadata": {},
   "source": [
    "## Inheritance <br>\n",
    "<p>You can create a child-parent relationship between two classes by using inheritance. What this allows you to do is have overriding methods, but also inherit traits from the parent class. Think of it as an actual parent and child, the child will inherit the parent's genes, as will the classes in OOP</p>"
   ]
  },
  {
   "cell_type": "markdown",
   "metadata": {},
   "source": [
    "##### Syntax for Inheriting from a Parent Class"
   ]
  },
  {
   "cell_type": "code",
   "execution_count": 192,
   "metadata": {},
   "outputs": [
    {
     "data": {
      "text/plain": [
       "'Bark!'"
      ]
     },
     "execution_count": 192,
     "metadata": {},
     "output_type": "execute_result"
    }
   ],
   "source": [
    "# create a parent class -- Animal\n",
    "class Animal:\n",
    "    def __init__(self, name, species, legs = 4):\n",
    "        self.name = name\n",
    "        self.species = species\n",
    "        self.legs = legs\n",
    "        \n",
    "    # generic sound\n",
    "    def makeSound(self):\n",
    "        print('Generic animal noises here!')\n",
    "        \n",
    "# create child class that inherits everything from parent(Animal) class\n",
    "class Dog(Animal):\n",
    "    speed = 10\n",
    "    def printInfo(self):\n",
    "        print(f'This Dog has {self.speed}mph in speed and {self.legs} legs')\n",
    "        \n",
    "newDog = Dog('Hank', 'Labrador Retriever')\n",
    "newDog.species\n",
    "\n",
    "# create grandchild class\n",
    "class Mut(Dog):\n",
    "    # method override of the original Animal method for makeSound (line 9)\n",
    "    def makeSound(self):\n",
    "        noise = 'Bark!'\n",
    "        return noise\n",
    "    \n",
    "griffin = Mut('Griffin', 'who knows')\n",
    "griffin.makeSound()"
   ]
  },
  {
   "cell_type": "markdown",
   "metadata": {},
   "source": [
    "##### The \\__init\\__() Method for a Child Class - super()"
   ]
  },
  {
   "cell_type": "code",
   "execution_count": 195,
   "metadata": {
    "scrolled": true
   },
   "outputs": [
    {
     "data": {
      "text/plain": [
       "True"
      ]
     },
     "execution_count": 195,
     "metadata": {},
     "output_type": "execute_result"
    }
   ],
   "source": [
    "class Mut(Dog):\n",
    "    # overriding the Animal class __init__ method that Mut inherited through Dog\n",
    "    def __init__(self, name, species, tail, legs = 4):\n",
    "        super().__init__(name,species,legs)\n",
    "        self.tail = tail\n",
    "    \n",
    "    # method override of the original Animal method for makeSound\n",
    "    def makeSound(self):\n",
    "        noise = 'Bark!'\n",
    "        return noise\n",
    "    \n",
    "lassie = Mut('Lassie', 'who knows', True, 3)\n",
    "lassie.tail\n"
   ]
  },
  {
   "cell_type": "markdown",
   "metadata": {},
   "source": [
    "##### Defining Attributes and Methods for the Child Class"
   ]
  },
  {
   "cell_type": "code",
   "execution_count": null,
   "metadata": {},
   "outputs": [],
   "source": [
    "# See Above"
   ]
  },
  {
   "cell_type": "markdown",
   "metadata": {},
   "source": [
    "##### Method Overriding"
   ]
  },
  {
   "cell_type": "code",
   "execution_count": null,
   "metadata": {},
   "outputs": [],
   "source": [
    "# See Above"
   ]
  },
  {
   "cell_type": "markdown",
   "metadata": {},
   "source": [
    "## Classes as Attributes <br>\n",
    "<p>Classes can also be used as attributes within another class. This is useful in situations where you need to keep variables locally stored, instead of globally stored.</p>"
   ]
  },
  {
   "cell_type": "code",
   "execution_count": 212,
   "metadata": {},
   "outputs": [
    {
     "data": {
      "text/plain": [
       "'2022 Rivian R1T has a battery with 60 volts and 20 cells'"
      ]
     },
     "execution_count": 212,
     "metadata": {},
     "output_type": "execute_result"
    }
   ],
   "source": [
    "class Battery:\n",
    "    def __init__(self, cells, volts):\n",
    "        self.cells = cells\n",
    "        self.volts = volts\n",
    "\n",
    "class Car:\n",
    "    def __init__(self, year, make, model, battery):\n",
    "        self.year = year\n",
    "        self.make = make\n",
    "        self.model = model\n",
    "        self.battery = battery\n",
    "        \n",
    "    def printInfo(self):\n",
    "        return f'{self.year} {self.make} {self.model} has a battery with {self.battery.volts} volts and {self.battery.cells} cells'\n",
    "\n",
    "battery = Battery(20, 60)\n",
    "battery.volts\n",
    "\n",
    "rivian = Car(2022, 'Rivian', 'R1T', battery)\n",
    "rivian.printInfo()\n",
    "\n",
    "# to see attributes inside dictionary\n",
    "# rivian.__dict__\n",
    "# rivian.battery.__dict__"
   ]
  },
  {
   "cell_type": "markdown",
   "metadata": {},
   "source": [
    "# Exercises"
   ]
  },
  {
   "cell_type": "markdown",
   "metadata": {},
   "source": [
    "### Exercise 1 - Turn the shopping cart program from yesterday into an object-oriented program\n",
    "\n",
    "The comments in the cell below are there as a guide for thinking about the problem. However, if you feel a different way is best for you and your own thought process, please do what feels best for you by all means."
   ]
  },
  {
   "cell_type": "code",
   "execution_count": 301,
   "metadata": {},
   "outputs": [
    {
     "name": "stdout",
     "output_type": "stream",
     "text": [
      "These items are currently in your cart:\n",
      "apple\n",
      "cereal\n",
      "Thank you for shopping with us! See you next time 😊\n"
     ]
    }
   ],
   "source": [
    "from IPython.display import clear_output\n",
    "\n",
    "class ShoppingCart:\n",
    "    def __init__(self, items):\n",
    "        self.items = items\n",
    "        \n",
    "    def showCart(self):\n",
    "        clear_output()\n",
    "        print('These items are currently in your cart:')\n",
    "        for item in self.items:\n",
    "            print(item)\n",
    "    \n",
    "    def addToCart(self):\n",
    "        clear_output()\n",
    "        product = (input)('What would you like to add? ')\n",
    "        self.items.append(product)\n",
    "    \n",
    "    def removeFromCart(self):\n",
    "        clear_output()\n",
    "        print('These items are currently in your cart:')\n",
    "        for item in self.items:\n",
    "            print(item)\n",
    "        product = (input)('What would you like to remove? ')\n",
    "        self.items.remove(product)\n",
    "\n",
    "def cartProgram():\n",
    "    aldi = ShoppingCart([])\n",
    "    while True:\n",
    "        res = input('Would you like to: \\n1) Add to cart (type \"add\") \\n2) Remove from cart (type \"remove\") \\n3) Show current items in cart (type \"show\") \\n4) Quit the program (type \"quit\")\\n')\n",
    "        \n",
    "        if res.lower() == 'quit':\n",
    "            aldi.showCart()\n",
    "            print('Thank you for shopping with us! See you next time 😊')\n",
    "            break\n",
    "            \n",
    "        elif res.lower() == 'add':\n",
    "            aldi.addToCart()\n",
    "            \n",
    "        elif res.lower() == 'remove':  \n",
    "            aldi.removeFromCart()\n",
    "            \n",
    "        elif res.lower() == 'show':\n",
    "            aldi.showCart()\n",
    "\n",
    "        else:\n",
    "            print('Please enter a valid command')\n",
    "\n",
    "\n",
    "cartProgram()\n"
   ]
  },
  {
   "cell_type": "markdown",
   "metadata": {},
   "source": [
    "### Exercise 2 - Write a Python class which has two methods get_String and print_String. get_String accept a string from the user and print_String print the string in upper case"
   ]
  },
  {
   "cell_type": "code",
   "execution_count": 297,
   "metadata": {},
   "outputs": [
    {
     "name": "stdout",
     "output_type": "stream",
     "text": [
      "Enter information: This should work\n",
      "THIS SHOULD WORK\n"
     ]
    }
   ],
   "source": [
    "class PythonString():\n",
    "    def __init__(self):\n",
    "        self.string = self\n",
    "\n",
    "    def get_String(self):\n",
    "        self.string = input('Enter information: ')\n",
    "\n",
    "    def print_String(self):\n",
    "        print(self.string.upper())\n",
    "\n",
    "string = PythonString()\n",
    "string.get_String()\n",
    "string.print_String()\n"
   ]
  }
 ],
 "metadata": {
  "kernelspec": {
   "display_name": "Python 3",
   "language": "python",
   "name": "python3"
  },
  "language_info": {
   "codemirror_mode": {
    "name": "ipython",
    "version": 3
   },
   "file_extension": ".py",
   "mimetype": "text/x-python",
   "name": "python",
   "nbconvert_exporter": "python",
   "pygments_lexer": "ipython3",
   "version": "3.8.8"
  }
 },
 "nbformat": 4,
 "nbformat_minor": 2
}
